{
 "cells": [
  {
   "cell_type": "markdown",
   "id": "5742b6e6",
   "metadata": {},
   "source": [
    "# Neelesh Verma 159"
   ]
  },
  {
   "cell_type": "markdown",
   "id": "6f33db75",
   "metadata": {},
   "source": [
    "# 1. Write a program to generate a dictionary that contains (i,sqrt(i)), where i is an integer between 1 and n. n is a number input by the user."
   ]
  },
  {
   "cell_type": "code",
   "execution_count": 11,
   "id": "13794ad8",
   "metadata": {},
   "outputs": [
    {
     "name": "stdout",
     "output_type": "stream",
     "text": [
      "Enter the avalur ot n to get sqrt from 0 to n:5\n",
      "{0: 0.0, 1: 1.0, 2: 1.4142135623730951, 3: 1.7320508075688772, 4: 2.0, 5: 2.23606797749979}\n"
     ]
    }
   ],
   "source": [
    "import math\n",
    "def sqrtfxn(n):\n",
    "    d = dict()\n",
    "    for i in range(0,n+1):\n",
    "        d[i] = math.sqrt(i)\n",
    "    print(d)\n",
    "n = int(input(\"Enter the avalur ot n to get sqrt from 0 to n:\"))\n",
    "sqrtfxn(n)\n"
   ]
  },
  {
   "cell_type": "markdown",
   "id": "d64485fb",
   "metadata": {},
   "source": [
    "# 2. Write a simple calculator program using functions add, sub, mul and div.        The program should accepts two numbers and an operator and calls the        corresponding function to perform the operation."
   ]
  },
  {
   "cell_type": "code",
   "execution_count": 7,
   "id": "dedd1d94",
   "metadata": {},
   "outputs": [
    {
     "name": "stdout",
     "output_type": "stream",
     "text": [
      "The substraction of two number is 0\n"
     ]
    }
   ],
   "source": [
    "\n",
    "def add(a, b):\n",
    "    z = a+b\n",
    "    return z\n",
    "def sub(a, b):\n",
    "    z = a-b\n",
    "    return z\n",
    "def mul(a, b):\n",
    "    z = a*b\n",
    "    return z\n",
    "def div(a, b):\n",
    "    z = a-b\n",
    "    return z\n",
    "\n",
    "a = int(input(\"Enter first number:\"))\n",
    "b = int(input(\"Enter second number:\"))\n",
    "op = input(\"Enter Operator '+, -, *, /': \")\n",
    "\n",
    "if op == \"+\":\n",
    "    z = add(a, b)\n",
    "    print(\"The adddtiton of two number is\",z)\n",
    "if op == \"-\":\n",
    "    z = sub(a, b)\n",
    "    print(\"The substraction of two number is\",z)\n",
    "if op == \"*\":\n",
    "    z = mul(a, b)\n",
    "    print(\"The multiplication of two number is\",z)\n",
    "if op == \"/\":\n",
    "    z = div(a, b)\n",
    "    print(\"The division of two number is\",z)"
   ]
  },
  {
   "cell_type": "markdown",
   "id": "eeaeb01a",
   "metadata": {},
   "source": [
    "# 3.Write a function that generates a list with values that are square of number between 1 and 20."
   ]
  },
  {
   "cell_type": "code",
   "execution_count": 15,
   "id": "d40fce1f",
   "metadata": {},
   "outputs": [
    {
     "name": "stdout",
     "output_type": "stream",
     "text": [
      "{0: 0, 1: 1, 2: 4, 3: 9, 4: 16, 5: 25}\n"
     ]
    }
   ],
   "source": [
    "def sqr_of_num(n):\n",
    "    d = dict()\n",
    "    for i in range(0,n+1):\n",
    "        d[i] = i**2\n",
    "    print(d)\n",
    "n = int(input(\"Enter the number:\"))\n",
    "sqr_of_num(n)\n",
    "\n"
   ]
  },
  {
   "cell_type": "markdown",
   "id": "4979dd48",
   "metadata": {},
   "source": [
    "# 4. Define a class named Shape with static method printType. Define methods draw() and area(). Now define two class Rectangle and Triangle. Rectangle has two attributes length and width. The Triangle class has attributes a, b and c. Override the two methods of shape class. Demonstrate the functionality of class by creating its objects. "
   ]
  },
  {
   "cell_type": "code",
   "execution_count": 17,
   "id": "552d6484",
   "metadata": {},
   "outputs": [
    {
     "name": "stdout",
     "output_type": "stream",
     "text": [
      "static method\n",
      "area\n",
      "draw\n",
      "draw\n",
      "draw again2\n"
     ]
    }
   ],
   "source": [
    "class Shape():\n",
    "    @staticmethod\n",
    "    def printType():\n",
    "        print(\"static method\")\n",
    "    def draw(self):\n",
    "        print(\"draw\")\n",
    "    def area(self):\n",
    "        print(\"area\")\n",
    "\n",
    "class rectangle(Shape):\n",
    "    def __init__(self):\n",
    "        self.width = 23\n",
    "        self.length =34\n",
    "\n",
    "class triangle(Shape):\n",
    "    def __init__(self):\n",
    "        self.a = 2\n",
    "        self.b = 3\n",
    "        self.c = 4\n",
    "    def draw(self):\n",
    "        print(\"draw again2\")\n",
    "    def area(self):\n",
    "        print(\"area again2\")\n",
    "\n",
    "s = Shape()\n",
    "Shape.printType()\n",
    "t = triangle()\n",
    "r = rectangle()\n",
    "s.area()\n",
    "s.draw()\n",
    "r.draw()\n",
    "t.draw()"
   ]
  },
  {
   "cell_type": "markdown",
   "id": "429f94cc",
   "metadata": {},
   "source": [
    "# 5. Using recursion, write a program to calculate the reverse of a string."
   ]
  },
  {
   "cell_type": "code",
   "execution_count": 23,
   "id": "7966886d",
   "metadata": {},
   "outputs": [
    {
     "name": "stdout",
     "output_type": "stream",
     "text": [
      "Given String:nrrlrsj\n",
      "Reverse of string:jsrlrrn\n"
     ]
    }
   ],
   "source": [
    "# st = input(\"Enter the string:\")\n",
    "# print(st[::-1])\n",
    "\n",
    "\n",
    "\n",
    "\n",
    "\n",
    "\n",
    "str = input(\"Enter the String\")\n",
    "def rev(st):\n",
    "    if(st==\"\"):\n",
    "        return \"\"\n",
    "    else:\n",
    "        return rev(st[1:])+st[0]\n",
    "a = rev(str)\n",
    "print(f\"Given String:{str}\")\n",
    "print(f\"Reverse of string:{a}\")"
   ]
  },
  {
   "cell_type": "code",
   "execution_count": null,
   "id": "6f514bb7",
   "metadata": {},
   "outputs": [],
   "source": []
  }
 ],
 "metadata": {
  "kernelspec": {
   "display_name": "Python 3 (ipykernel)",
   "language": "python",
   "name": "python3"
  },
  "language_info": {
   "codemirror_mode": {
    "name": "ipython",
    "version": 3
   },
   "file_extension": ".py",
   "mimetype": "text/x-python",
   "name": "python",
   "nbconvert_exporter": "python",
   "pygments_lexer": "ipython3",
   "version": "3.11.3"
  },
  "varInspector": {
   "cols": {
    "lenName": 16,
    "lenType": 16,
    "lenVar": 40
   },
   "kernels_config": {
    "python": {
     "delete_cmd_postfix": "",
     "delete_cmd_prefix": "del ",
     "library": "var_list.py",
     "varRefreshCmd": "print(var_dic_list())"
    },
    "r": {
     "delete_cmd_postfix": ") ",
     "delete_cmd_prefix": "rm(",
     "library": "var_list.r",
     "varRefreshCmd": "cat(var_dic_list()) "
    }
   },
   "types_to_exclude": [
    "module",
    "function",
    "builtin_function_or_method",
    "instance",
    "_Feature"
   ],
   "window_display": false
  }
 },
 "nbformat": 4,
 "nbformat_minor": 5
}
