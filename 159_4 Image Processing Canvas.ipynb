{
 "cells": [
  {
   "cell_type": "markdown",
   "id": "c0fccde3",
   "metadata": {},
   "source": [
    "# 159_Neelesh Verma"
   ]
  },
  {
   "cell_type": "code",
   "execution_count": 1,
   "id": "41ac93b5",
   "metadata": {},
   "outputs": [],
   "source": [
    "import cv2 \n",
    "import numpy as np"
   ]
  },
  {
   "cell_type": "code",
   "execution_count": 5,
   "id": "7aa7f194",
   "metadata": {},
   "outputs": [
    {
     "data": {
      "text/plain": [
       "-1"
      ]
     },
     "execution_count": 5,
     "metadata": {},
     "output_type": "execute_result"
    }
   ],
   "source": [
    "canvas = np.zeros((400,400,3),dtype=np.uint8)\n",
    "# Set all pixels to white\n",
    "canvas[:] = (255, 255, 255)\n",
    "cv2.imshow('Canvas', canvas)\n",
    "cv2.waitKey(0)"
   ]
  },
  {
   "cell_type": "code",
   "execution_count": 3,
   "id": "7b1363e7",
   "metadata": {},
   "outputs": [
    {
     "data": {
      "text/plain": [
       "array([[[0, 0, 0],\n",
       "        [0, 0, 0],\n",
       "        [0, 0, 0],\n",
       "        ...,\n",
       "        [0, 0, 0],\n",
       "        [0, 0, 0],\n",
       "        [0, 0, 0]],\n",
       "\n",
       "       [[0, 0, 0],\n",
       "        [0, 0, 0],\n",
       "        [0, 0, 0],\n",
       "        ...,\n",
       "        [0, 0, 0],\n",
       "        [0, 0, 0],\n",
       "        [0, 0, 0]],\n",
       "\n",
       "       [[0, 0, 0],\n",
       "        [0, 0, 0],\n",
       "        [0, 0, 0],\n",
       "        ...,\n",
       "        [0, 0, 0],\n",
       "        [0, 0, 0],\n",
       "        [0, 0, 0]],\n",
       "\n",
       "       ...,\n",
       "\n",
       "       [[0, 0, 0],\n",
       "        [0, 0, 0],\n",
       "        [0, 0, 0],\n",
       "        ...,\n",
       "        [0, 0, 0],\n",
       "        [0, 0, 0],\n",
       "        [0, 0, 0]],\n",
       "\n",
       "       [[0, 0, 0],\n",
       "        [0, 0, 0],\n",
       "        [0, 0, 0],\n",
       "        ...,\n",
       "        [0, 0, 0],\n",
       "        [0, 0, 0],\n",
       "        [0, 0, 0]],\n",
       "\n",
       "       [[0, 0, 0],\n",
       "        [0, 0, 0],\n",
       "        [0, 0, 0],\n",
       "        ...,\n",
       "        [0, 0, 0],\n",
       "        [0, 0, 0],\n",
       "        [0, 0, 0]]], dtype=uint8)"
      ]
     },
     "execution_count": 3,
     "metadata": {},
     "output_type": "execute_result"
    }
   ],
   "source": [
    "# Draw a white line on the canvas\n",
    "cv2.line(canvas, (0, 0), (400, 400), (0,0,0),3)\n",
    "cv2.line(canvas, (0, 400), (400, 0), (0,0,0),3)    # last 3 is for thickness"
   ]
  },
  {
   "cell_type": "code",
   "execution_count": 4,
   "id": "ad55e1ba",
   "metadata": {},
   "outputs": [
    {
     "data": {
      "text/plain": [
       "-1"
      ]
     },
     "execution_count": 4,
     "metadata": {},
     "output_type": "execute_result"
    }
   ],
   "source": [
    "cv2.imshow('Canvas', canvas)\n",
    "cv2.waitKey(0)"
   ]
  },
  {
   "cell_type": "code",
   "execution_count": 6,
   "id": "9182f261",
   "metadata": {},
   "outputs": [
    {
     "data": {
      "text/plain": [
       "-1"
      ]
     },
     "execution_count": 6,
     "metadata": {},
     "output_type": "execute_result"
    }
   ],
   "source": [
    "canvas = np.zeros((400,400,3),dtype=np.uint8)\n",
    "# Set all pixels to white\n",
    "canvas[:] = (255, 255, 255)\n",
    "# Draw an rectangle\n",
    "cv2.rectangle(canvas, (100, 100), (300, 300), (0,0,0), 2)\n",
    "cv2.imshow('Canvas', canvas)\n",
    "cv2.waitKey(0)"
   ]
  },
  {
   "cell_type": "code",
   "execution_count": 7,
   "id": "5a77bee8",
   "metadata": {},
   "outputs": [
    {
     "data": {
      "text/plain": [
       "-1"
      ]
     },
     "execution_count": 7,
     "metadata": {},
     "output_type": "execute_result"
    }
   ],
   "source": [
    "canvas = np.zeros((400,400,3),dtype=np.uint8)\n",
    "# Set all pixels to white\n",
    "canvas[:] = (255, 255, 255)\n",
    "# Draw an circle\n",
    "cv2.circle(canvas, (200, 200), 100, (0, 0, 0), 3)\n",
    "cv2.imshow('Canvas', canvas)\n",
    "cv2.waitKey(0)"
   ]
  },
  {
   "cell_type": "code",
   "execution_count": 8,
   "id": "29026ad0",
   "metadata": {},
   "outputs": [
    {
     "data": {
      "text/plain": [
       "-1"
      ]
     },
     "execution_count": 8,
     "metadata": {},
     "output_type": "execute_result"
    }
   ],
   "source": [
    "canvas = np.zeros((400,400,3),dtype=np.uint8)\n",
    "# Set all pixels to white\n",
    "canvas[:] = (255, 255, 255)\n",
    "# Draw an ellipse \n",
    "# cv2.ellipse(image, center_coordinates, axesLength, angle, startAngle, endAngle, color, thickness)\n",
    "cv2.ellipse(canvas, (200, 200), (100, 50), 0, 0, 360, (0, 0, 0), 2)\n",
    "cv2.imshow('Canvas', canvas)\n",
    "cv2.waitKey(0)"
   ]
  },
  {
   "cell_type": "code",
   "execution_count": 9,
   "id": "51bd3b47",
   "metadata": {},
   "outputs": [
    {
     "data": {
      "text/plain": [
       "-1"
      ]
     },
     "execution_count": 9,
     "metadata": {},
     "output_type": "execute_result"
    }
   ],
   "source": [
    "import cv2\n",
    "\n",
    "# Create a white canvas\n",
    "canvas = np.ones((400, 400, 3), dtype=np.uint8) * 255\n",
    "\n",
    "# Draw the cv2 logo\n",
    "cv2.putText(canvas, 'cv2', (100, 100), cv2.FONT_HERSHEY_SIMPLEX, 1, (0, 0, 0), 2)\n",
    "\n",
    "# Show the canvas\n",
    "cv2.imshow('Canvas', canvas)\n",
    "cv2.waitKey(0)"
   ]
  },
  {
   "cell_type": "code",
   "execution_count": 10,
   "id": "19ef6c71",
   "metadata": {},
   "outputs": [],
   "source": [
    "import cv2\n",
    "import numpy as np\n",
    "\n",
    "#output image\n",
    "img = np.full((360, 512, 3), 255, dtype=\"uint8\")\n",
    "img = cv2.ellipse(img, (256, 80), (60,60), 120,0,300,(0,0,255),-1)\n",
    "img = cv2.ellipse(img, (256, 80), (20,20), 120,0,300,(255,255,255),-1)\n",
    "img = cv2.ellipse(img, (176, 200), (60,60), 0,0,300,(0,255,0),-1)\n",
    "img = cv2.ellipse(img, (176, 200), (20,20), 0,0,300,(255,255,255),-1)\n",
    "img = cv2.ellipse(img, (336, 200), (60,60), 300,0,300,(255,0,0),-1)\n",
    "img = cv2.ellipse(img, (336, 200), (20,20), 300,0,300,(255,255,255),-1)\n",
    "\n",
    "font = cv2.FONT_HERSHEY_SIMPLEX\n",
    "img = cv2.putText(img, \"OpenCV\", (196,296), font, 1, (0,0,0), 4, cv2.LINE_AA)\n",
    "\n",
    "cv2.imshow(\"OpenCV Logo\", img)\n",
    "cv2.waitKey(0) \n",
    "cv2.destroyAllWindows()\n",
    "# cv2.imwrite('opencvlogo.png', img)"
   ]
  },
  {
   "cell_type": "code",
   "execution_count": null,
   "id": "cbfaf460",
   "metadata": {},
   "outputs": [],
   "source": []
  }
 ],
 "metadata": {
  "kernelspec": {
   "display_name": "Python 3 (ipykernel)",
   "language": "python",
   "name": "python3"
  },
  "language_info": {
   "codemirror_mode": {
    "name": "ipython",
    "version": 3
   },
   "file_extension": ".py",
   "mimetype": "text/x-python",
   "name": "python",
   "nbconvert_exporter": "python",
   "pygments_lexer": "ipython3",
   "version": "3.11.3"
  },
  "varInspector": {
   "cols": {
    "lenName": 16,
    "lenType": 16,
    "lenVar": 40
   },
   "kernels_config": {
    "python": {
     "delete_cmd_postfix": "",
     "delete_cmd_prefix": "del ",
     "library": "var_list.py",
     "varRefreshCmd": "print(var_dic_list())"
    },
    "r": {
     "delete_cmd_postfix": ") ",
     "delete_cmd_prefix": "rm(",
     "library": "var_list.r",
     "varRefreshCmd": "cat(var_dic_list()) "
    }
   },
   "types_to_exclude": [
    "module",
    "function",
    "builtin_function_or_method",
    "instance",
    "_Feature"
   ],
   "window_display": false
  }
 },
 "nbformat": 4,
 "nbformat_minor": 5
}
