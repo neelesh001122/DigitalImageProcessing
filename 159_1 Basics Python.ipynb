{
 "cells": [
  {
   "cell_type": "markdown",
   "id": "d77fcd1d",
   "metadata": {},
   "source": [
    "# Neelesh Verma 159"
   ]
  },
  {
   "cell_type": "markdown",
   "id": "0f22dc9f",
   "metadata": {},
   "source": [
    "# 1.Small Program in python to print CV"
   ]
  },
  {
   "cell_type": "code",
   "execution_count": null,
   "id": "341f2d59",
   "metadata": {},
   "outputs": [
    {
     "name": "stdout",
     "output_type": "stream",
     "text": [
      "Name: Neelesh\n",
      "Father's Name: Rajesh Verma\n",
      "Age: 21\n",
      "Gender: Male\n",
      "Address: Kanpur\n",
      "Contact Number: 6393004748\n",
      "Percentage Of High School: 80 %\n",
      "Precentage of Intermediate: 80 %\n",
      "Percentage of Graduation: 80 %\n",
      "Work Experience: Intern\n",
      "Skills:\n",
      " Python \n",
      " HTML \n",
      " C\n",
      "Project:\n",
      " Car Price Predictor: \n",
      " The prediction prokect is for people \n",
      " who are looking for the best car within \n",
      " the desired range by putting some basic information.\n"
     ]
    }
   ],
   "source": [
    "def my_cv(name, fname, age, gen, address, contact_no):\n",
    "    print(\"Name:\",name)\n",
    "    print(\"Father's Name:\",fname)\n",
    "    print(\"Age:\",age)\n",
    "    print(\"Gender:\",gen)\n",
    "    print(\"Address:\",address)\n",
    "    print(\"Contact Number:\",contact_no)\n",
    "def Edu_Qual(pohs, poss, pog, wexp):\n",
    "    print(\"Percentage Of High School:\",pohs,\"%\")\n",
    "    print(\"Precentage of Intermediate:\", poss,\"%\")\n",
    "    print(\"Percentage of Graduation:\", pog,\"%\")\n",
    "    print(\"Work Experience:\", wexp)\n",
    "def skills_and_proj():\n",
    "    print(\"Skills:\")\n",
    "    print(\" Python \\n HTML \\n C\")\n",
    "    print(\"Project:\")\n",
    "    print(\" Car Price Predictor: \\n The prediction prokect is for people \\n who are looking for the best car within \\n the desired range by putting some basic information.\")\n",
    "def print_cv():\n",
    "    my_cv(\"Neelesh\",\"Rajesh Verma\", 21, \"Male\", \"Kanpur\",\"6393004748\")\n",
    "    Edu_Qual(80,80,80,\"Intern\")\n",
    "    skills_and_proj()\n",
    "print_cv()"
   ]
  },
  {
   "cell_type": "markdown",
   "id": "7073b11d",
   "metadata": {},
   "source": [
    "# 2.Write a program that take month as input. And print Season(Summer, Winter, Autumn or Spring) "
   ]
  },
  {
   "cell_type": "code",
   "execution_count": 10,
   "id": "4606384a",
   "metadata": {},
   "outputs": [],
   "source": [
    "def findseason(m):\n",
    "    if m == 12 or m == 1 or m == 2:\n",
    "        print(\"Winter Season\")\n",
    "    elif m == 3 or m == 4 or m == 5:\n",
    "        print(\"Spring Season\")\n",
    "    elif m == 6 or m == 7 or m ==8:\n",
    "        print(\"Summer Season\")\n",
    "    elif m == 9 or m == 10 or m == 11:\n",
    "        print(\"Autumn Season\")\n",
    "    else:\n",
    "        print(\"Invalid Input\")\n",
    "\n",
    "m = int(input(\"Enter month number(1 - 12): \"))\n",
    "findseason(m)"
   ]
  },
  {
   "cell_type": "markdown",
   "id": "1380cd99",
   "metadata": {},
   "source": [
    "# 3. To determine whether a year is a leap year, follow these steps: \n",
    "#    a. If the year is evenly divisible by 4, go to step 2. Otherwise, go to step 5.\n",
    "#    b. If the year is evenly divisible by 100, go to step 3. Otherwise, go to step           4. \n",
    "#    c. If the year is evenly divisible by 400, go to step 4. Otherwise, go to step 5.\n",
    "#    d. The year is a leap year (it has 366 days).\n",
    "#    e. The year is not a leap year (it has 365 days). \n",
    "# Write a program to input an year as integer. Using if...else, determines whether the input is a leap year or not.\n"
   ]
  },
  {
   "cell_type": "code",
   "execution_count": null,
   "id": "d9e4d1ef",
   "metadata": {},
   "outputs": [
    {
     "name": "stdout",
     "output_type": "stream",
     "text": [
      "1995 is not a leap year\n"
     ]
    }
   ],
   "source": [
    "def leapyear(year):\n",
    "    if year % 4 == 0:                                   #a\n",
    "        if year % 100 == 0:                             #b\n",
    "            if year % 400 == 0:                         #c\n",
    "                print(year, \"is a leap year\")\n",
    "            else:                                       \n",
    "                print(year, \"is not a leap year\")\n",
    "        else:                                           #d\n",
    "            print(year, \"is a leap year\")\n",
    "    else:                                               #e\n",
    "        print(year, \"is not a leap year\")\n",
    "        \n",
    "year = int(input(\"Enter a year: \"))\n",
    "leapyear(year)"
   ]
  },
  {
   "cell_type": "markdown",
   "id": "18c3add5",
   "metadata": {},
   "source": [
    "# 4. Write a program that takes a sentence as input. Compute the frequency of each words and prints them."
   ]
  },
  {
   "cell_type": "code",
   "execution_count": 5,
   "id": "28e2853e",
   "metadata": {},
   "outputs": [
    {
     "name": "stdout",
     "output_type": "stream",
     "text": [
      "Enter your String:my name is neelesh name my\n",
      "Frequency of 'my' is : 2\n",
      "Frequency of 'name' is : 2\n",
      "Frequency of 'is' is : 1\n",
      "Frequency of 'neelesh' is : 1\n"
     ]
    }
   ],
   "source": [
    "def freq(str):\n",
    "    str = str.split()\n",
    "    str2 = []\n",
    "\n",
    "    for i in str:\n",
    "        if i not in str2:\n",
    "            str2.append(i)\n",
    "    for i in range(0, len(str2)):\n",
    "\n",
    "        print('Frequency of',\"'\"+str2[i]+\"'\", 'is :', str.count(str2[i]))\n",
    "\n",
    "str = input(\"Enter your String:\")\n",
    "freq(str)"
   ]
  },
  {
   "cell_type": "code",
   "execution_count": null,
   "id": "3ab2683a",
   "metadata": {},
   "outputs": [],
   "source": []
  }
 ],
 "metadata": {
  "kernelspec": {
   "display_name": "Python 3 (ipykernel)",
   "language": "python",
   "name": "python3"
  },
  "language_info": {
   "codemirror_mode": {
    "name": "ipython",
    "version": 3
   },
   "file_extension": ".py",
   "mimetype": "text/x-python",
   "name": "python",
   "nbconvert_exporter": "python",
   "pygments_lexer": "ipython3",
   "version": "3.11.3"
  },
  "varInspector": {
   "cols": {
    "lenName": 16,
    "lenType": 16,
    "lenVar": 40
   },
   "kernels_config": {
    "python": {
     "delete_cmd_postfix": "",
     "delete_cmd_prefix": "del ",
     "library": "var_list.py",
     "varRefreshCmd": "print(var_dic_list())"
    },
    "r": {
     "delete_cmd_postfix": ") ",
     "delete_cmd_prefix": "rm(",
     "library": "var_list.r",
     "varRefreshCmd": "cat(var_dic_list()) "
    }
   },
   "types_to_exclude": [
    "module",
    "function",
    "builtin_function_or_method",
    "instance",
    "_Feature"
   ],
   "window_display": false
  }
 },
 "nbformat": 4,
 "nbformat_minor": 5
}
